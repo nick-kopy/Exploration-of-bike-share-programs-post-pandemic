{
 "cells": [
  {
   "cell_type": "code",
   "execution_count": 1,
   "id": "textile-revolution",
   "metadata": {},
   "outputs": [],
   "source": [
    "import pyspark as ps\n",
    "from pyspark.sql.types import *\n",
    "from pyspark.sql.functions import isnull, when, count, col\n",
    "import pandas as pd\n",
    "#import numpy as np\n",
    "import matplotlib.pyplot as plt\n",
    "\n",
    "# starts the spark session that uses: 4 cores, sql and rdd contexts\n",
    "# note: this spark session only uses the local machine\n",
    "spark = (ps.sql.SparkSession.builder \n",
    "        .master(\"local[4]\") \n",
    "        .appName(\"morning sprint\") \n",
    "        .getOrCreate()\n",
    "        )\n",
    "\n",
    "# a sparkcontext which makes rdds\n",
    "sc = spark.sparkContext"
   ]
  },
  {
   "cell_type": "code",
   "execution_count": 6,
   "id": "located-clarity",
   "metadata": {},
   "outputs": [
    {
     "name": "stdout",
     "output_type": "stream",
     "text": [
      "+--------+--------+-------------------+-------------------+-------------+---------+-----------+-----------+---------+-----------+-------+-------------+-------------------+---------------+\n",
      "| trip_id|duration|         start_time|           end_time|start_station|start_lat|  start_lon|end_station|  end_lat|    end_lon|bike_id|plan_duration|trip_route_category|passholder_type|\n",
      "+--------+--------+-------------------+-------------------+-------------+---------+-----------+-----------+---------+-----------+-------+-------------+-------------------+---------------+\n",
      "|94851140|       8|2018-07-01 00:04:00|2018-07-01 00:12:00|         3058|34.035801|-118.233170|       3082|34.046520|-118.237411|  06279|           30|            One Way|   Monthly Pass|\n",
      "|94851141|       8|2018-07-01 00:04:00|2018-07-01 00:12:00|         3058|34.035801|-118.233170|       3082|34.046520|-118.237411|  06518|          365|            One Way|      Flex Pass|\n",
      "|94851138|      15|2018-07-01 00:09:00|2018-07-01 00:24:00|         4147|34.145248|-118.150070|       4174|34.165291|-118.150970|  04823|          365|            One Way|   Monthly Pass|\n",
      "|94851137|       7|2018-07-01 00:22:00|2018-07-01 00:29:00|         4157|34.140999|-118.132088|       4162|34.147499|-118.148010|  06115|           30|            One Way|   Monthly Pass|\n",
      "|94851136|      35|2018-07-01 00:23:00|2018-07-01 00:58:00|         3013|33.779819|-118.263023|       3013|33.779819|-118.263023|  12055|            1|         Round Trip|        Walk-up|\n",
      "|94851135|       6|2018-07-01 00:38:00|2018-07-01 00:44:00|         3029|34.048851|-118.246422|       3082|34.046520|-118.237411|  06370|            1|            One Way|        Walk-up|\n",
      "|94851134|       5|2018-07-01 00:39:00|2018-07-01 00:44:00|         3029|34.048851|-118.246422|       3082|34.046520|-118.237411|  06566|            1|            One Way|        Walk-up|\n",
      "|94857739|      33|2018-07-01 00:40:00|2018-07-01 01:13:00|         3069|34.050880|-118.248253|       3075|34.042110|-118.256187|  06407|            1|            One Way|        Walk-up|\n",
      "|94851133|       6|2018-07-01 00:44:00|2018-07-01 00:50:00|         3067|34.045181|-118.250237|       3062|34.047749|-118.243172|  05859|           30|            One Way|   Monthly Pass|\n",
      "|94851132|       3|2018-07-01 00:46:00|2018-07-01 00:49:00|         3034|34.042061|-118.263382|       3074|34.044170|-118.261169|  06562|           30|            One Way|   Monthly Pass|\n",
      "|94851130|       7|2018-07-01 00:49:00|2018-07-01 00:56:00|         3008|34.046612|-118.262733|       3049|34.056969|-118.253593|  12411|            1|            One Way|   One Day Pass|\n",
      "|94851131|       7|2018-07-01 00:49:00|2018-07-01 00:56:00|         3008|34.046612|-118.262733|       3049|34.056969|-118.253593|  12025|            1|            One Way|   One Day Pass|\n",
      "|94857733|      19|2018-07-01 00:51:00|2018-07-01 01:10:00|         4147|34.145248|-118.150070|       4163|34.150471|-118.132019|  06671|            1|            One Way|        Walk-up|\n",
      "|94857734|      19|2018-07-01 00:51:00|2018-07-01 01:10:00|         4147|34.145248|-118.150070|       4163|34.150471|-118.132019|  05824|            1|            One Way|        Walk-up|\n",
      "|94857732|      16|2018-07-01 01:10:00|2018-07-01 01:26:00|         3022|34.046070|-118.233093|       3078|34.064281|-118.238937|  06404|           30|            One Way|   Monthly Pass|\n",
      "|94857731|       2|2018-07-01 01:29:00|2018-07-01 01:31:00|         3064|34.046810|-118.256981|       3031|34.044701|-118.252441|  12091|           30|            One Way|   Monthly Pass|\n",
      "|94857730|      21|2018-07-01 01:32:00|2018-07-01 01:53:00|         4159|34.145901|-118.116539|       4163|34.150471|-118.132019|  05742|            1|            One Way|        Walk-up|\n",
      "|94897462|     383|2018-07-01 01:35:00|2018-07-01 07:58:00|         3063|34.048038|-118.253738|       3038|34.046822|-118.248352|  06137|           30|            One Way|   Monthly Pass|\n",
      "|94864344|      17|2018-07-01 01:47:00|2018-07-01 02:04:00|         3067|34.045181|-118.250237|       3066|34.063389|-118.236160|  05787|            1|            One Way|        Walk-up|\n",
      "|94864345|      17|2018-07-01 01:47:00|2018-07-01 02:04:00|         3067|34.045181|-118.250237|       3066|34.063389|-118.236160|  05936|            1|            One Way|        Walk-up|\n",
      "+--------+--------+-------------------+-------------------+-------------+---------+-----------+-----------+---------+-----------+-------+-------------+-------------------+---------------+\n",
      "only showing top 20 rows\n",
      "\n"
     ]
    }
   ],
   "source": [
    "la_folder = 'data/LA/'\n",
    "\n",
    "la_sdf = spark.read.csv(la_folder, header='true')\n",
    "\n",
    "la_sdf.show()"
   ]
  },
  {
   "cell_type": "code",
   "execution_count": 9,
   "id": "concerned-unknown",
   "metadata": {},
   "outputs": [
    {
     "name": "stdout",
     "output_type": "stream",
     "text": [
      "+-------+--------------------+------------------+-------------+-------------+-----------------+-------------------+-------------------+------------------+-------------------+-------------------+------------------+------------------+-------------------+---------------+\n",
      "|summary|             trip_id|          duration|   start_time|     end_time|    start_station|          start_lat|          start_lon|       end_station|            end_lat|            end_lon|           bike_id|     plan_duration|trip_route_category|passholder_type|\n",
      "+-------+--------------------+------------------+-------------+-------------+-----------------+-------------------+-------------------+------------------+-------------------+-------------------+------------------+------------------+-------------------+---------------+\n",
      "|  count|              812210|            812210|       812210|       812210|           812210|             761956|             761956|            812210|             787561|             787561|            812210|            812210|             812210|         812210|\n",
      "|   mean|1.1768911650240578E8|36.941267652454414|         null|         null|3445.189401755704|  34.04033696368812|-118.27980760161273|3475.8060760148237|  34.04046752590317|-118.28182978094368|11471.306662529749|45.844227478115265|               null|           null|\n",
      "| stddev|2.2179160975938957E7|127.52498879593905|         null|         null|591.8053353377454|0.15342535342536442| 1.0446521219100027| 603.5543617003117|0.13411181802932282|   0.89952134595125|  6876.50882708983|  93.9520934123328|               null|           null|\n",
      "|    min|           100000737|                 1|1/1/2020 0:16|1/1/2020 0:41|             3000|          33.710979|        -118.116539|              3000|          33.710979|        -118.000000|             04727|                 0|            One Way|    Annual Pass|\n",
      "|    max|            99993541|               999|9/9/2020 9:57|9/9/2020 9:57|             4583|          55.705528|          37.606541|              4583|          55.705528|          37.606541|            Rblock|               999|         Round Trip|        Walk-up|\n",
      "+-------+--------------------+------------------+-------------+-------------+-----------------+-------------------+-------------------+------------------+-------------------+-------------------+------------------+------------------+-------------------+---------------+\n",
      "\n"
     ]
    }
   ],
   "source": [
    "la_sdf.describe().show()"
   ]
  },
  {
   "cell_type": "code",
   "execution_count": 10,
   "id": "collectible-coffee",
   "metadata": {},
   "outputs": [
    {
     "data": {
      "text/plain": [
       "812210"
      ]
     },
     "execution_count": 10,
     "metadata": {},
     "output_type": "execute_result"
    }
   ],
   "source": [
    "la_sdf.count()"
   ]
  },
  {
   "cell_type": "code",
   "execution_count": 18,
   "id": "alone-comfort",
   "metadata": {},
   "outputs": [
    {
     "data": {
      "text/plain": [
       "742859"
      ]
     },
     "execution_count": 18,
     "metadata": {},
     "output_type": "execute_result"
    }
   ],
   "source": [
    "# dataframe loses ~69,000 rows after dropping any that have null elements\n",
    "\n",
    "la_sdf.dropna(how='any').count()"
   ]
  },
  {
   "cell_type": "code",
   "execution_count": 16,
   "id": "infinite-elephant",
   "metadata": {},
   "outputs": [
    {
     "name": "stdout",
     "output_type": "stream",
     "text": [
      "+-------+--------+----------+--------+-------------+---------+---------+-----------+-------+-------+-------+-------------+-------------------+---------------+\n",
      "|trip_id|duration|start_time|end_time|start_station|start_lat|start_lon|end_station|end_lat|end_lon|bike_id|plan_duration|trip_route_category|passholder_type|\n",
      "+-------+--------+----------+--------+-------------+---------+---------+-----------+-------+-------+-------+-------------+-------------------+---------------+\n",
      "|      0|       0|         0|       0|            0|    50254|    50254|          0|  24649|  24649|      0|            0|                  0|              0|\n",
      "+-------+--------+----------+--------+-------------+---------+---------+-----------+-------+-------+-------+-------------+-------------------+---------------+\n",
      "\n"
     ]
    }
   ],
   "source": [
    "# modified line from stack overflow, counts the number of null values in each column\n",
    "\n",
    "la_sdf.select([count(when(isnull(c), c)).alias(c) for c in la_sdf.columns]).show()"
   ]
  },
  {
   "cell_type": "markdown",
   "id": "other-graph",
   "metadata": {},
   "source": [
    "So the only null values in the LA data are latitudes and longitudes. There must be one or more stations that don't have lat/long data. Since we aren't doing any mapping data, this shouldn't matter. We couldn't realistically calculate distance with these coordinates anyways."
   ]
  },
  {
   "cell_type": "code",
   "execution_count": 19,
   "id": "affected-disease",
   "metadata": {},
   "outputs": [
    {
     "name": "stdout",
     "output_type": "stream",
     "text": [
      "root\n",
      " |-- trip_id: string (nullable = true)\n",
      " |-- duration: string (nullable = true)\n",
      " |-- start_time: string (nullable = true)\n",
      " |-- end_time: string (nullable = true)\n",
      " |-- start_station: string (nullable = true)\n",
      " |-- start_lat: string (nullable = true)\n",
      " |-- start_lon: string (nullable = true)\n",
      " |-- end_station: string (nullable = true)\n",
      " |-- end_lat: string (nullable = true)\n",
      " |-- end_lon: string (nullable = true)\n",
      " |-- bike_id: string (nullable = true)\n",
      " |-- plan_duration: string (nullable = true)\n",
      " |-- trip_route_category: string (nullable = true)\n",
      " |-- passholder_type: string (nullable = true)\n",
      "\n"
     ]
    }
   ],
   "source": [
    "la_sdf.printSchema()"
   ]
  },
  {
   "cell_type": "code",
   "execution_count": 45,
   "id": "surprised-hours",
   "metadata": {},
   "outputs": [
    {
     "name": "stdout",
     "output_type": "stream",
     "text": [
      "+--------+--------+-------------------+-------------------+-------------+---------+----------+-----------+--------+----------+-------+-------------+-------------------+---------------+\n",
      "| trip_id|duration|         start_time|           end_time|start_station|start_lat| start_lon|end_station| end_lat|   end_lon|bike_id|plan_duration|trip_route_category|passholder_type|\n",
      "+--------+--------+-------------------+-------------------+-------------+---------+----------+-----------+--------+----------+-------+-------------+-------------------+---------------+\n",
      "|94851140|       8|2018-07-01 00:04:00|2018-07-01 00:12:00|         3058|  34.0358|-118.23317|       3082|34.04652|-118.23741|   6279|           30|            One Way|   Monthly Pass|\n",
      "|94851141|       8|2018-07-01 00:04:00|2018-07-01 00:12:00|         3058|  34.0358|-118.23317|       3082|34.04652|-118.23741|   6518|          365|            One Way|      Flex Pass|\n",
      "|94851138|      15|2018-07-01 00:09:00|2018-07-01 00:24:00|         4147| 34.14525|-118.15007|       4174|34.16529|-118.15097|   4823|          365|            One Way|   Monthly Pass|\n",
      "|94851137|       7|2018-07-01 00:22:00|2018-07-01 00:29:00|         4157|   34.141|-118.13209|       4162| 34.1475|-118.14801|   6115|           30|            One Way|   Monthly Pass|\n",
      "|94851136|      35|2018-07-01 00:23:00|2018-07-01 00:58:00|         3013| 33.77982|-118.26302|       3013|33.77982|-118.26302|  12055|            1|         Round Trip|        Walk-up|\n",
      "|94851135|       6|2018-07-01 00:38:00|2018-07-01 00:44:00|         3029| 34.04885|-118.24642|       3082|34.04652|-118.23741|   6370|            1|            One Way|        Walk-up|\n",
      "|94851134|       5|2018-07-01 00:39:00|2018-07-01 00:44:00|         3029| 34.04885|-118.24642|       3082|34.04652|-118.23741|   6566|            1|            One Way|        Walk-up|\n",
      "|94857739|      33|2018-07-01 00:40:00|2018-07-01 01:13:00|         3069| 34.05088|-118.24825|       3075|34.04211|-118.25619|   6407|            1|            One Way|        Walk-up|\n",
      "|94851133|       6|2018-07-01 00:44:00|2018-07-01 00:50:00|         3067| 34.04518|-118.25024|       3062|34.04775|-118.24317|   5859|           30|            One Way|   Monthly Pass|\n",
      "|94851132|       3|2018-07-01 00:46:00|2018-07-01 00:49:00|         3034| 34.04206|-118.26338|       3074|34.04417|-118.26117|   6562|           30|            One Way|   Monthly Pass|\n",
      "|94851130|       7|2018-07-01 00:49:00|2018-07-01 00:56:00|         3008| 34.04661|-118.26273|       3049|34.05697|-118.25359|  12411|            1|            One Way|   One Day Pass|\n",
      "|94851131|       7|2018-07-01 00:49:00|2018-07-01 00:56:00|         3008| 34.04661|-118.26273|       3049|34.05697|-118.25359|  12025|            1|            One Way|   One Day Pass|\n",
      "|94857733|      19|2018-07-01 00:51:00|2018-07-01 01:10:00|         4147| 34.14525|-118.15007|       4163|34.15047|-118.13202|   6671|            1|            One Way|        Walk-up|\n",
      "|94857734|      19|2018-07-01 00:51:00|2018-07-01 01:10:00|         4147| 34.14525|-118.15007|       4163|34.15047|-118.13202|   5824|            1|            One Way|        Walk-up|\n",
      "|94857732|      16|2018-07-01 01:10:00|2018-07-01 01:26:00|         3022| 34.04607|-118.23309|       3078|34.06428|-118.23894|   6404|           30|            One Way|   Monthly Pass|\n",
      "|94857731|       2|2018-07-01 01:29:00|2018-07-01 01:31:00|         3064| 34.04681|-118.25698|       3031| 34.0447|-118.25244|  12091|           30|            One Way|   Monthly Pass|\n",
      "|94857730|      21|2018-07-01 01:32:00|2018-07-01 01:53:00|         4159|  34.1459|-118.11654|       4163|34.15047|-118.13202|   5742|            1|            One Way|        Walk-up|\n",
      "|94897462|     383|2018-07-01 01:35:00|2018-07-01 07:58:00|         3063| 34.04804|-118.25374|       3038|34.04682|-118.24835|   6137|           30|            One Way|   Monthly Pass|\n",
      "|94864344|      17|2018-07-01 01:47:00|2018-07-01 02:04:00|         3067| 34.04518|-118.25024|       3066|34.06339|-118.23616|   5787|            1|            One Way|        Walk-up|\n",
      "|94864345|      17|2018-07-01 01:47:00|2018-07-01 02:04:00|         3067| 34.04518|-118.25024|       3066|34.06339|-118.23616|   5936|            1|            One Way|        Walk-up|\n",
      "+--------+--------+-------------------+-------------------+-------------+---------+----------+-----------+--------+----------+-------+-------------+-------------------+---------------+\n",
      "only showing top 20 rows\n",
      "\n"
     ]
    }
   ],
   "source": [
    "# this time with schema\n",
    "\n",
    "la_schema = StructType([\n",
    "    StructField('trip_id', IntegerType(), True), # primary key\n",
    "    StructField('duration', IntegerType(), True), # duration in minutes, may want to remove trips below 5 minutes or over x hours\n",
    "    StructField('start_time', StringType(), True), # ISO 8601 (local time), TimestampType drops 1/3 of the data\n",
    "    StructField('end_time', StringType(), True),\n",
    "    StructField('start_station', IntegerType(), True), # foreign key, station names exist online somewhere\n",
    "    StructField('start_lat', FloatType(), True), # useful if looking for geographic data\n",
    "    StructField('start_lon', FloatType(), True),\n",
    "    StructField('end_station', IntegerType(), True),\n",
    "    StructField('end_lat', FloatType(), True),\n",
    "    StructField('end_lon', FloatType(), True),\n",
    "    StructField('bike_id', IntegerType(), True), # foreign key\n",
    "    StructField('plan_duration', IntegerType(), True), # days rider has had their pass, 0 or 1 (?) for \"walk up\"\n",
    "    StructField('trip_route_category', StringType(), True), # \"Round Trip\" or \"One Way\"\n",
    "    StructField('passholder_type', StringType(), True)\n",
    "    #, StructField('bike_type', StringType(), True)\n",
    "])\n",
    "\n",
    "la_folder = 'data/LA/'\n",
    "\n",
    "la_sdf = spark.read.csv(la_folder, header='true', inferSchema=False, schema=la_schema)\n",
    "\n",
    "# REMOVE LEAP DAY FROM 2020\n",
    "\n",
    "la_sdf.show()"
   ]
  },
  {
   "cell_type": "code",
   "execution_count": 46,
   "id": "union-gossip",
   "metadata": {},
   "outputs": [
    {
     "name": "stdout",
     "output_type": "stream",
     "text": [
      "+--------+-------------------+\n",
      "|duration|         start_time|\n",
      "+--------+-------------------+\n",
      "|       8|2018-07-01 00:04:00|\n",
      "|       8|2018-07-01 00:04:00|\n",
      "|      15|2018-07-01 00:09:00|\n",
      "|       7|2018-07-01 00:22:00|\n",
      "|      35|2018-07-01 00:23:00|\n",
      "|       6|2018-07-01 00:38:00|\n",
      "|       5|2018-07-01 00:39:00|\n",
      "|      33|2018-07-01 00:40:00|\n",
      "|       6|2018-07-01 00:44:00|\n",
      "|       3|2018-07-01 00:46:00|\n",
      "|       7|2018-07-01 00:49:00|\n",
      "|       7|2018-07-01 00:49:00|\n",
      "|      19|2018-07-01 00:51:00|\n",
      "|      19|2018-07-01 00:51:00|\n",
      "|      16|2018-07-01 01:10:00|\n",
      "|       2|2018-07-01 01:29:00|\n",
      "|      21|2018-07-01 01:32:00|\n",
      "|     383|2018-07-01 01:35:00|\n",
      "|      17|2018-07-01 01:47:00|\n",
      "|      17|2018-07-01 01:47:00|\n",
      "+--------+-------------------+\n",
      "only showing top 20 rows\n",
      "\n"
     ]
    }
   ],
   "source": [
    "# If you want to run some certain analysis, start here with picking the relevant columns\n",
    "\n",
    "use_cols = ['duration', 'start_time']\n",
    "drop_cols = la_sdf.columns\n",
    "for col in use_cols:\n",
    "    drop_cols.remove(col)\n",
    "\n",
    "la_sdf_to_pd = la_sdf.drop(*drop_cols)\n",
    "\n",
    "la_sdf_to_pd.show()"
   ]
  },
  {
   "cell_type": "markdown",
   "id": "agreed-attachment",
   "metadata": {},
   "source": [
    "There are trips that are below 3 minutes (duration = 2) where the rider made it from one station to another. So although the data will include rider or machine error that inflates the number of rides, at least for LA we can't realistically pull all the short trips without throwing out real data. An argument could be made for short \"round trip\" rows, but it's hard to say what the limit should be (2 minutes? 5? 10?)."
   ]
  },
  {
   "cell_type": "code",
   "execution_count": 42,
   "id": "loving-budapest",
   "metadata": {},
   "outputs": [
    {
     "name": "stdout",
     "output_type": "stream",
     "text": [
      "<class 'pandas.core.frame.DataFrame'>\n",
      "RangeIndex: 812210 entries, 0 to 812209\n",
      "Data columns (total 2 columns):\n",
      " #   Column      Non-Null Count   Dtype \n",
      "---  ------      --------------   ----- \n",
      " 0   duration    812210 non-null  int32 \n",
      " 1   start_time  812210 non-null  object\n",
      "dtypes: int32(1), object(1)\n",
      "memory usage: 9.3+ MB\n"
     ]
    }
   ],
   "source": [
    "la_df = la_sdf_to_pd.toPandas()\n",
    "\n",
    "la_df.info()"
   ]
  },
  {
   "cell_type": "code",
   "execution_count": 53,
   "id": "aggregate-bargain",
   "metadata": {},
   "outputs": [
    {
     "name": "stdout",
     "output_type": "stream",
     "text": [
      "<class 'pandas.core.frame.DataFrame'>\n",
      "Int64Index: 811227 entries, 0 to 812209\n",
      "Data columns (total 2 columns):\n",
      " #   Column      Non-Null Count   Dtype         \n",
      "---  ------      --------------   -----         \n",
      " 0   duration    811227 non-null  int32         \n",
      " 1   start_time  811227 non-null  datetime64[ns]\n",
      "dtypes: datetime64[ns](1), int32(1)\n",
      "memory usage: 15.5 MB\n"
     ]
    }
   ],
   "source": [
    "# make our start_time column into a datetime format, remove feb 29th from 2020\n",
    "\n",
    "la_df['start_time'] = pd.to_datetime(la_df['start_time'], infer_datetime_format=True)\n",
    "\n",
    "la_df = la_df[~((la_df['start_time'].dt.month == 2) & (la_df['start_time'].dt.day == 29))]\n",
    "\n",
    "la_df.info()"
   ]
  },
  {
   "cell_type": "code",
   "execution_count": 79,
   "id": "subsequent-superior",
   "metadata": {},
   "outputs": [
    {
     "data": {
      "text/plain": [
       "array([datetime.date(2018, 7, 1), datetime.date(2018, 7, 2),\n",
       "       datetime.date(2018, 7, 3), datetime.date(2018, 7, 4),\n",
       "       datetime.date(2018, 7, 5), datetime.date(2018, 7, 6),\n",
       "       datetime.date(2018, 7, 7), datetime.date(2018, 7, 8),\n",
       "       datetime.date(2018, 7, 9), datetime.date(2018, 7, 10),\n",
       "       datetime.date(2018, 7, 11), datetime.date(2018, 7, 12),\n",
       "       datetime.date(2018, 7, 13), datetime.date(2018, 7, 14),\n",
       "       datetime.date(2018, 7, 15), datetime.date(2018, 7, 16),\n",
       "       datetime.date(2018, 7, 17), datetime.date(2018, 7, 18),\n",
       "       datetime.date(2018, 7, 19), datetime.date(2018, 7, 20),\n",
       "       datetime.date(2018, 7, 21), datetime.date(2018, 7, 22),\n",
       "       datetime.date(2018, 7, 23), datetime.date(2018, 7, 24),\n",
       "       datetime.date(2018, 7, 25), datetime.date(2018, 7, 26),\n",
       "       datetime.date(2018, 7, 27), datetime.date(2018, 7, 28),\n",
       "       datetime.date(2018, 7, 29), datetime.date(2018, 7, 30),\n",
       "       datetime.date(2018, 7, 31), datetime.date(2018, 8, 1),\n",
       "       datetime.date(2018, 8, 2), datetime.date(2018, 8, 3),\n",
       "       datetime.date(2018, 8, 4), datetime.date(2018, 8, 5),\n",
       "       datetime.date(2018, 8, 6), datetime.date(2018, 8, 7),\n",
       "       datetime.date(2018, 8, 8), datetime.date(2018, 8, 9),\n",
       "       datetime.date(2018, 8, 10), datetime.date(2018, 8, 11),\n",
       "       datetime.date(2018, 8, 12), datetime.date(2018, 8, 13),\n",
       "       datetime.date(2018, 8, 14), datetime.date(2018, 8, 15),\n",
       "       datetime.date(2018, 8, 16), datetime.date(2018, 8, 17),\n",
       "       datetime.date(2018, 8, 18), datetime.date(2018, 8, 19),\n",
       "       datetime.date(2018, 8, 20), datetime.date(2018, 8, 21),\n",
       "       datetime.date(2018, 8, 22), datetime.date(2018, 8, 23),\n",
       "       datetime.date(2018, 8, 24), datetime.date(2018, 8, 25),\n",
       "       datetime.date(2018, 8, 26), datetime.date(2018, 8, 27),\n",
       "       datetime.date(2018, 8, 28), datetime.date(2018, 8, 29),\n",
       "       datetime.date(2018, 8, 30), datetime.date(2018, 8, 31),\n",
       "       datetime.date(2018, 9, 1), datetime.date(2018, 9, 2),\n",
       "       datetime.date(2018, 9, 3), datetime.date(2018, 9, 4),\n",
       "       datetime.date(2018, 9, 5), datetime.date(2018, 9, 6),\n",
       "       datetime.date(2018, 9, 7), datetime.date(2018, 9, 8),\n",
       "       datetime.date(2018, 9, 9), datetime.date(2018, 9, 10),\n",
       "       datetime.date(2018, 9, 11), datetime.date(2018, 9, 12),\n",
       "       datetime.date(2018, 9, 13), datetime.date(2018, 9, 14),\n",
       "       datetime.date(2018, 9, 15), datetime.date(2018, 9, 16),\n",
       "       datetime.date(2018, 9, 17), datetime.date(2018, 9, 18),\n",
       "       datetime.date(2018, 9, 19), datetime.date(2018, 9, 20),\n",
       "       datetime.date(2018, 9, 21), datetime.date(2018, 9, 22),\n",
       "       datetime.date(2018, 9, 23), datetime.date(2018, 9, 24),\n",
       "       datetime.date(2018, 9, 25), datetime.date(2018, 9, 26),\n",
       "       datetime.date(2018, 9, 27), datetime.date(2018, 9, 28),\n",
       "       datetime.date(2018, 9, 29), datetime.date(2018, 9, 30),\n",
       "       datetime.date(2018, 10, 1), datetime.date(2018, 10, 2),\n",
       "       datetime.date(2018, 10, 3), datetime.date(2018, 10, 4),\n",
       "       datetime.date(2018, 10, 5), datetime.date(2018, 10, 6),\n",
       "       datetime.date(2018, 10, 7), datetime.date(2018, 10, 8),\n",
       "       datetime.date(2018, 10, 9), datetime.date(2018, 10, 10),\n",
       "       datetime.date(2018, 10, 11), datetime.date(2018, 10, 12),\n",
       "       datetime.date(2018, 10, 13), datetime.date(2018, 10, 14),\n",
       "       datetime.date(2018, 10, 15), datetime.date(2018, 10, 16),\n",
       "       datetime.date(2018, 10, 17), datetime.date(2018, 10, 18),\n",
       "       datetime.date(2018, 10, 19), datetime.date(2018, 10, 20),\n",
       "       datetime.date(2018, 10, 21), datetime.date(2018, 10, 22),\n",
       "       datetime.date(2018, 10, 23), datetime.date(2018, 10, 24),\n",
       "       datetime.date(2018, 10, 25), datetime.date(2018, 10, 26),\n",
       "       datetime.date(2018, 10, 27), datetime.date(2018, 10, 28),\n",
       "       datetime.date(2018, 10, 29), datetime.date(2018, 10, 30),\n",
       "       datetime.date(2018, 10, 31), datetime.date(2018, 11, 1),\n",
       "       datetime.date(2018, 11, 2), datetime.date(2018, 11, 3),\n",
       "       datetime.date(2018, 11, 4), datetime.date(2018, 11, 5),\n",
       "       datetime.date(2018, 11, 6), datetime.date(2018, 11, 7),\n",
       "       datetime.date(2018, 11, 8), datetime.date(2018, 11, 9),\n",
       "       datetime.date(2018, 11, 10), datetime.date(2018, 11, 11),\n",
       "       datetime.date(2018, 11, 12), datetime.date(2018, 11, 13),\n",
       "       datetime.date(2018, 11, 14), datetime.date(2018, 11, 15),\n",
       "       datetime.date(2018, 11, 16), datetime.date(2018, 11, 17),\n",
       "       datetime.date(2018, 11, 18), datetime.date(2018, 11, 19),\n",
       "       datetime.date(2018, 11, 20), datetime.date(2018, 11, 21),\n",
       "       datetime.date(2018, 11, 22), datetime.date(2018, 11, 23),\n",
       "       datetime.date(2018, 11, 24), datetime.date(2018, 11, 25),\n",
       "       datetime.date(2018, 11, 26), datetime.date(2018, 11, 27),\n",
       "       datetime.date(2018, 11, 28), datetime.date(2018, 11, 29),\n",
       "       datetime.date(2018, 11, 30), datetime.date(2018, 12, 1),\n",
       "       datetime.date(2018, 12, 2), datetime.date(2018, 12, 3),\n",
       "       datetime.date(2018, 12, 4), datetime.date(2018, 12, 5),\n",
       "       datetime.date(2018, 12, 6), datetime.date(2018, 12, 7),\n",
       "       datetime.date(2018, 12, 8), datetime.date(2018, 12, 9),\n",
       "       datetime.date(2018, 12, 10), datetime.date(2018, 12, 11),\n",
       "       datetime.date(2018, 12, 12), datetime.date(2018, 12, 13),\n",
       "       datetime.date(2018, 12, 14), datetime.date(2018, 12, 15),\n",
       "       datetime.date(2018, 12, 16), datetime.date(2018, 12, 17),\n",
       "       datetime.date(2018, 12, 18), datetime.date(2018, 12, 19),\n",
       "       datetime.date(2018, 12, 20), datetime.date(2018, 12, 21),\n",
       "       datetime.date(2018, 12, 22), datetime.date(2018, 12, 23),\n",
       "       datetime.date(2018, 12, 24), datetime.date(2018, 12, 25),\n",
       "       datetime.date(2018, 12, 26), datetime.date(2018, 12, 27),\n",
       "       datetime.date(2018, 12, 28), datetime.date(2018, 12, 29),\n",
       "       datetime.date(2018, 12, 30), datetime.date(2018, 12, 31),\n",
       "       datetime.date(2018, 4, 1), datetime.date(2018, 4, 2),\n",
       "       datetime.date(2018, 4, 3), datetime.date(2018, 4, 4),\n",
       "       datetime.date(2018, 4, 5), datetime.date(2018, 4, 6),\n",
       "       datetime.date(2018, 4, 7), datetime.date(2018, 4, 8),\n",
       "       datetime.date(2018, 4, 9), datetime.date(2018, 4, 10),\n",
       "       datetime.date(2018, 4, 11), datetime.date(2018, 4, 12),\n",
       "       datetime.date(2018, 4, 13), datetime.date(2018, 4, 14),\n",
       "       datetime.date(2018, 4, 15), datetime.date(2018, 4, 16),\n",
       "       datetime.date(2018, 4, 17), datetime.date(2018, 4, 18),\n",
       "       datetime.date(2018, 4, 19), datetime.date(2018, 4, 20),\n",
       "       datetime.date(2018, 4, 21), datetime.date(2018, 4, 22),\n",
       "       datetime.date(2018, 4, 23), datetime.date(2018, 4, 24),\n",
       "       datetime.date(2018, 4, 25), datetime.date(2018, 4, 26),\n",
       "       datetime.date(2018, 4, 27), datetime.date(2018, 4, 28),\n",
       "       datetime.date(2018, 4, 29), datetime.date(2018, 4, 30),\n",
       "       datetime.date(2018, 5, 1), datetime.date(2018, 5, 2),\n",
       "       datetime.date(2018, 5, 3), datetime.date(2018, 5, 4),\n",
       "       datetime.date(2018, 5, 5), datetime.date(2018, 5, 6),\n",
       "       datetime.date(2018, 5, 7), datetime.date(2018, 5, 8),\n",
       "       datetime.date(2018, 5, 9), datetime.date(2018, 5, 10),\n",
       "       datetime.date(2018, 5, 11), datetime.date(2018, 5, 12),\n",
       "       datetime.date(2018, 5, 13), datetime.date(2018, 5, 14),\n",
       "       datetime.date(2018, 5, 15), datetime.date(2018, 5, 16),\n",
       "       datetime.date(2018, 5, 17), datetime.date(2018, 5, 18),\n",
       "       datetime.date(2018, 5, 19), datetime.date(2018, 5, 20),\n",
       "       datetime.date(2018, 5, 21), datetime.date(2018, 5, 22),\n",
       "       datetime.date(2018, 5, 23), datetime.date(2018, 5, 24),\n",
       "       datetime.date(2018, 5, 25), datetime.date(2018, 5, 26),\n",
       "       datetime.date(2018, 5, 27), datetime.date(2018, 5, 28),\n",
       "       datetime.date(2018, 5, 29), datetime.date(2018, 5, 30),\n",
       "       datetime.date(2018, 5, 31), datetime.date(2018, 6, 1),\n",
       "       datetime.date(2018, 6, 2), datetime.date(2018, 6, 3),\n",
       "       datetime.date(2018, 6, 4), datetime.date(2018, 6, 5),\n",
       "       datetime.date(2018, 6, 6), datetime.date(2018, 6, 7),\n",
       "       datetime.date(2018, 6, 8), datetime.date(2018, 6, 9),\n",
       "       datetime.date(2018, 6, 10), datetime.date(2018, 6, 11),\n",
       "       datetime.date(2018, 6, 12), datetime.date(2018, 6, 13),\n",
       "       datetime.date(2018, 6, 14), datetime.date(2018, 6, 15),\n",
       "       datetime.date(2018, 6, 16), datetime.date(2018, 6, 17),\n",
       "       datetime.date(2018, 6, 18), datetime.date(2018, 6, 19),\n",
       "       datetime.date(2018, 6, 20), datetime.date(2018, 6, 21),\n",
       "       datetime.date(2018, 6, 22), datetime.date(2018, 6, 23),\n",
       "       datetime.date(2018, 6, 24), datetime.date(2018, 6, 25),\n",
       "       datetime.date(2018, 6, 26), datetime.date(2018, 6, 27),\n",
       "       datetime.date(2018, 6, 28), datetime.date(2018, 6, 29),\n",
       "       datetime.date(2018, 6, 30), datetime.date(2018, 1, 1),\n",
       "       datetime.date(2018, 1, 2), datetime.date(2018, 1, 3),\n",
       "       datetime.date(2018, 1, 4), datetime.date(2018, 1, 5),\n",
       "       datetime.date(2018, 1, 6), datetime.date(2018, 1, 7),\n",
       "       datetime.date(2018, 1, 8), datetime.date(2018, 1, 9),\n",
       "       datetime.date(2018, 1, 10), datetime.date(2018, 1, 11),\n",
       "       datetime.date(2018, 1, 12), datetime.date(2018, 1, 13),\n",
       "       datetime.date(2018, 1, 14), datetime.date(2018, 1, 15),\n",
       "       datetime.date(2018, 1, 16), datetime.date(2018, 1, 17),\n",
       "       datetime.date(2018, 1, 18), datetime.date(2018, 1, 19),\n",
       "       datetime.date(2018, 1, 20), datetime.date(2018, 1, 21),\n",
       "       datetime.date(2018, 1, 22), datetime.date(2018, 1, 23),\n",
       "       datetime.date(2018, 1, 24), datetime.date(2018, 1, 25),\n",
       "       datetime.date(2018, 1, 26), datetime.date(2018, 1, 27),\n",
       "       datetime.date(2018, 1, 28), datetime.date(2018, 1, 29),\n",
       "       datetime.date(2018, 1, 30), datetime.date(2018, 1, 31),\n",
       "       datetime.date(2018, 2, 1), datetime.date(2018, 2, 2),\n",
       "       datetime.date(2018, 2, 3), datetime.date(2018, 2, 4),\n",
       "       datetime.date(2018, 2, 5), datetime.date(2018, 2, 6),\n",
       "       datetime.date(2018, 2, 7), datetime.date(2018, 2, 8),\n",
       "       datetime.date(2018, 2, 9), datetime.date(2018, 2, 10),\n",
       "       datetime.date(2018, 2, 11), datetime.date(2018, 2, 12),\n",
       "       datetime.date(2018, 2, 13), datetime.date(2018, 2, 14),\n",
       "       datetime.date(2018, 2, 15), datetime.date(2018, 2, 16),\n",
       "       datetime.date(2018, 2, 17), datetime.date(2018, 2, 18),\n",
       "       datetime.date(2018, 2, 19), datetime.date(2018, 2, 20),\n",
       "       datetime.date(2018, 2, 21), datetime.date(2018, 2, 22),\n",
       "       datetime.date(2018, 2, 23), datetime.date(2018, 2, 24),\n",
       "       datetime.date(2018, 2, 25), datetime.date(2018, 2, 26),\n",
       "       datetime.date(2018, 2, 27), datetime.date(2018, 2, 28),\n",
       "       datetime.date(2018, 3, 1), datetime.date(2018, 3, 2),\n",
       "       datetime.date(2018, 3, 3), datetime.date(2018, 3, 4),\n",
       "       datetime.date(2018, 3, 5), datetime.date(2018, 3, 6),\n",
       "       datetime.date(2018, 3, 7), datetime.date(2018, 3, 8),\n",
       "       datetime.date(2018, 3, 9), datetime.date(2018, 3, 10),\n",
       "       datetime.date(2018, 3, 11), datetime.date(2018, 3, 12),\n",
       "       datetime.date(2018, 3, 13), datetime.date(2018, 3, 14),\n",
       "       datetime.date(2018, 3, 15), datetime.date(2018, 3, 16),\n",
       "       datetime.date(2018, 3, 17), datetime.date(2018, 3, 18),\n",
       "       datetime.date(2018, 3, 19), datetime.date(2018, 3, 20),\n",
       "       datetime.date(2018, 3, 21), datetime.date(2018, 3, 22),\n",
       "       datetime.date(2018, 3, 23), datetime.date(2018, 3, 24),\n",
       "       datetime.date(2018, 3, 25), datetime.date(2018, 3, 26),\n",
       "       datetime.date(2018, 3, 27), datetime.date(2018, 3, 28),\n",
       "       datetime.date(2018, 3, 29), datetime.date(2018, 3, 30),\n",
       "       datetime.date(2018, 3, 31)], dtype=object)"
      ]
     },
     "execution_count": 79,
     "metadata": {},
     "output_type": "execute_result"
    }
   ],
   "source": [
    "dates_2018 = la_df[la_df['start_time'].dt.year == 2018].start_time.dt.date.unique()\n",
    "\n",
    "dates_2018"
   ]
  },
  {
   "cell_type": "code",
   "execution_count": 84,
   "id": "invalid-swiss",
   "metadata": {},
   "outputs": [],
   "source": [
    "la_df_2018 = la_df[la_df['start_time'].dt.year == 2018]\n",
    "\n",
    "la_df_2018 = la_df_2018.groupby(la_df_2018['start_time'].dt.month).size()\n",
    "\n",
    "la_df_2019 = la_df[la_df['start_time'].dt.year == 2019]\n",
    "\n",
    "la_df_2019 = la_df_2019.groupby(la_df_2019['start_time'].dt.month).size()\n",
    "\n",
    "la_df_2020 = la_df[la_df['start_time'].dt.year == 2020]\n",
    "\n",
    "la_df_2020 = la_df_2020.groupby(la_df_2020['start_time'].dt.month).size()"
   ]
  },
  {
   "cell_type": "code",
   "execution_count": 95,
   "id": "charged-locator",
   "metadata": {},
   "outputs": [
    {
     "data": {
      "image/png": "[encoded data removed]",
      "text/plain": [
       "<Figure size 864x576 with 1 Axes>"
      ]
     },
     "metadata": {},
     "output_type": "display_data"
    }
   ],
   "source": [
    "plt.style.use('ggplot')\n",
    "\n",
    "fig, ax = plt.subplots(figsize=(12,8))\n",
    "\n",
    "x = [1,2,3,4,5,6,7,8,9,10,11,12]\n",
    "\n",
    "ax.plot(x, la_df_2018, label='2018', linewidth=3)\n",
    "ax.plot(x, la_df_2019, label='2019', linewidth=3)\n",
    "ax.plot(x, la_df_2020, label='2020', linewidth=3)\n",
    "\n",
    "ax.set_xticks(x)\n",
    "ax.set_xticklabels(['jan','feb','mar','apr','may','jun','jul','aug','sep','oct','nov','dec'])\n",
    "\n",
    "ax.set_xlabel('month', fontsize=18)\n",
    "ax.set_ylabel('rides taken', fontsize=18)\n",
    "ax.set_title(\"LA's bikeshare volume per year\", fontsize=22)\n",
    "\n",
    "ax.legend()\n",
    "\n",
    "#plt.savefig('graphs/la_volume.png');"
   ]
  },
  {
   "cell_type": "code",
   "execution_count": null,
   "id": "nominated-universe",
   "metadata": {},
   "outputs": [],
   "source": [
    "# do a graph of by the hour start times, one for each year?\n",
    "\n",
    "# then do another city I guess "
   ]
  }
 ],
 "metadata": {
  "kernelspec": {
   "display_name": "Python 3",
   "language": "python",
   "name": "python3"
  },
  "language_info": {
   "codemirror_mode": {
    "name": "ipython",
    "version": 3
   },
   "file_extension": ".py",
   "mimetype": "text/x-python",
   "name": "python",
   "nbconvert_exporter": "python",
   "pygments_lexer": "ipython3",
   "version": "3.8.6"
  }
 },
 "nbformat": 4,
 "nbformat_minor": 5
}
